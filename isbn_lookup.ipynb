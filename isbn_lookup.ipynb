{
 "cells": [
  {
   "cell_type": "code",
   "execution_count": 1,
   "id": "73510d7b",
   "metadata": {},
   "outputs": [],
   "source": [
    "import requests\n",
    "import pandas as pd\n",
    "import re"
   ]
  },
  {
   "cell_type": "code",
   "execution_count": 2,
   "id": "40fc466c",
   "metadata": {},
   "outputs": [],
   "source": [
    "# Load CSV\n",
    "df = pd.read_csv(\"/Users/carolinesanicola/Downloads/my_audios.csv\")\n",
    "\n",
    "\n",
    "def clean_title(title):\n",
    "    # Remove file extensions (e.g., .m4b, .mp3, .abs)\n",
    "    title = re.sub(r\"\\.(m4b|mp3|abs|jpg|png)$\", \"\", title, flags=re.IGNORECASE)\n",
    "\n",
    "    # Remove metadata tags (e.g., \"Unabridged\", \"Chapterized\")\n",
    "    title = re.sub(r\"\\(Unabridged\\)|Unabridged|Chapterized\",\n",
    "                   \"\", title, flags=re.IGNORECASE)\n",
    "\n",
    "    # Remove extra whitespace and trailing hyphens/dashes\n",
    "    title = re.sub(r\"\\s+\", \" \", title).strip()\n",
    "    title = re.sub(r\"[-–—]\\s*$\", \"\", title)  # Trailing dashes\n",
    "\n",
    "    # Fix common issues (e.g., \"Ali Hazelwood - Check & Mate\" → \"Check & Mate\")\n",
    "    if \" - \" in title:\n",
    "        title = title.split(\" - \")[-1]  # Keep text after \" - \"\n",
    "\n",
    "    # Standardize capitalization (optional)\n",
    "    title = title.title()  # Capitalize first letters\n",
    "\n",
    "    return title\n",
    "\n",
    "\n",
    "df[\"Title_Clean\"] = df[\"Title\"].apply(clean_title)\n",
    "\n",
    "\n",
    "def get_isbn(title, author):\n",
    "    try:\n",
    "        response = requests.get(\n",
    "            f\"https://openlibrary.org/search.json?title={title}&author={author}\"\n",
    "        )\n",
    "        return response.json()['docs'][0]['isbn'][0]  # First ISBN found\n",
    "    except:\n",
    "        return None  # If no match\n",
    "\n",
    "\n",
    "df[\"ISBN\"] = df.apply(\n",
    "    lambda row: get_isbn(row[\"Title_Clean\"], row[\"Author\"]),\n",
    "    axis=1\n",
    ")\n",
    "\n",
    "# Save cleaned data\n",
    "df.to_csv(\"/Users/carolinesanicola/Downloads/cleaned_books_my_audio.csv\", index=False)\n"
   ]
  }
 ],
 "metadata": {
  "kernelspec": {
   "display_name": "base",
   "language": "python",
   "name": "python3"
  },
  "language_info": {
   "codemirror_mode": {
    "name": "ipython",
    "version": 3
   },
   "file_extension": ".py",
   "mimetype": "text/x-python",
   "name": "python",
   "nbconvert_exporter": "python",
   "pygments_lexer": "ipython3",
   "version": "3.8.8"
  }
 },
 "nbformat": 4,
 "nbformat_minor": 5
}
